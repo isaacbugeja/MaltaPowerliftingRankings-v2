{
 "cells": [
  {
   "cell_type": "code",
   "execution_count": 1,
   "metadata": {},
   "outputs": [],
   "source": [
    "import time\n",
    "import random\n",
    "import uuid\n",
    "from datetime import datetime"
   ]
  },
  {
   "cell_type": "code",
   "execution_count": 2,
   "metadata": {},
   "outputs": [
    {
     "name": "stdout",
     "output_type": "stream",
     "text": [
      "{'Event ID': 'b3009e14-3815-4b05-a341-2cc379f871a9', 'Timestamp': '2025-03-12 21:39:48', 'Entrance Location': 'Side Entrance', 'Store Name': 'Sephora', 'Incoming Visitors': 3, 'Outgoing Visitors': 0, 'Current In Building': 3}\n",
      "{'Event ID': '5c9f9980-938a-4620-982e-74f180924aaa', 'Timestamp': '2025-03-12 21:39:53', 'Entrance Location': 'Side Entrance', 'Store Name': 'Apple Store', 'Incoming Visitors': 2, 'Outgoing Visitors': 0, 'Current In Building': 2}\n",
      "{'Event ID': '0b15d732-4c37-435b-91aa-0c6b74b5f8c4', 'Timestamp': '2025-03-12 21:39:58', 'Entrance Location': 'Food Court Entrance', 'Store Name': 'Apple Store', 'Incoming Visitors': 3, 'Outgoing Visitors': 0, 'Current In Building': 5}\n"
     ]
    },
    {
     "ename": "KeyboardInterrupt",
     "evalue": "",
     "output_type": "error",
     "traceback": [
      "\u001b[1;31m---------------------------------------------------------------------------\u001b[0m",
      "\u001b[1;31mKeyboardInterrupt\u001b[0m                         Traceback (most recent call last)",
      "Cell \u001b[1;32mIn[2], line 62\u001b[0m\n\u001b[0;32m     57\u001b[0m         \u001b[38;5;28mprint\u001b[39m(event_data)\n\u001b[0;32m     59\u001b[0m         time\u001b[38;5;241m.\u001b[39msleep(\u001b[38;5;241m5\u001b[39m)\n\u001b[1;32m---> 62\u001b[0m \u001b[43mgenerate_foot_traffic_event\u001b[49m\u001b[43m(\u001b[49m\u001b[43m)\u001b[49m\n",
      "Cell \u001b[1;32mIn[2], line 59\u001b[0m, in \u001b[0;36mgenerate_foot_traffic_event\u001b[1;34m()\u001b[0m\n\u001b[0;32m     56\u001b[0m \u001b[38;5;66;03m# Return the event data\u001b[39;00m\n\u001b[0;32m     57\u001b[0m \u001b[38;5;28mprint\u001b[39m(event_data)\n\u001b[1;32m---> 59\u001b[0m \u001b[43mtime\u001b[49m\u001b[38;5;241;43m.\u001b[39;49m\u001b[43msleep\u001b[49m\u001b[43m(\u001b[49m\u001b[38;5;241;43m5\u001b[39;49m\u001b[43m)\u001b[49m\n",
      "\u001b[1;31mKeyboardInterrupt\u001b[0m: "
     ]
    }
   ],
   "source": [
    "# Define stores\n",
    "STORES = [\"Nordstrom\", \"Macy's\", \"Apple Store\", \"Nike\", \"Sephora\"]\n",
    "ENTRANCES = [\"Main Entrance\", \"Side Entrance\", \"Food Court Entrance\"]\n",
    "\n",
    "# Initialize current visitors tracking\n",
    "current_in_building = {store: 0 for store in STORES}\n",
    "\n",
    "\n",
    "def generate_foot_traffic_event():\n",
    "    while True:\n",
    "        \"\"\"Generate a foot traffic event.\"\"\"\n",
    "        # Select a random store and entrance\n",
    "        store_name = random.choice(STORES)\n",
    "        entrance_location = random.choice(ENTRANCES)\n",
    "\n",
    "        # Generate visitor counts with lower, more realistic numbers for a 5-second interval\n",
    "        incoming_visitors = random.randint(0, 3)  # 0-3 people entering\n",
    "\n",
    "        # Adjust outgoing visitors based on current occupancy\n",
    "        if current_in_building[store_name] > 0:\n",
    "            outgoing_visitors = random.randint(\n",
    "                0, min(3, current_in_building[store_name])\n",
    "            )\n",
    "        else:\n",
    "            outgoing_visitors = 0\n",
    "\n",
    "        # Calculate current visitors with special condition\n",
    "        new_current_visitors = (\n",
    "            current_in_building[store_name] + incoming_visitors - outgoing_visitors\n",
    "        )\n",
    "\n",
    "        # Ensure current visitors doesn't go to 0 if there were more incoming than outgoing\n",
    "        if incoming_visitors > outgoing_visitors:\n",
    "            new_current_visitors = max(new_current_visitors, 1)\n",
    "        else:\n",
    "            new_current_visitors = max(new_current_visitors, 0)\n",
    "\n",
    "        # Update current visitors\n",
    "        current_in_building[store_name] = new_current_visitors\n",
    "\n",
    "        # Create event data - Actual data being\n",
    "        event_data = {\n",
    "            \"Event ID\": str(uuid.uuid4()),\n",
    "            \"Timestamp\": datetime.now().strftime(\"%Y-%m-%d %H:%M:%S\"),\n",
    "            \"Entrance Location\": entrance_location,\n",
    "            \"Store Name\": store_name,\n",
    "            \"Incoming Visitors\": incoming_visitors,\n",
    "            \"Outgoing Visitors\": outgoing_visitors,\n",
    "            \"Current In Building\": current_in_building[store_name],\n",
    "        }\n",
    "\n",
    "        # Return None if both incoming and outgoing visitors are 0\n",
    "        if incoming_visitors == 0 and outgoing_visitors == 0:\n",
    "            return None\n",
    "\n",
    "        # Return the event data\n",
    "        print(event_data)\n",
    "\n",
    "        time.sleep(5)\n",
    "\n",
    "\n",
    "generate_foot_traffic_event()"
   ]
  }
 ],
 "metadata": {
  "kernelspec": {
   "display_name": "Python 3",
   "language": "python",
   "name": "python3"
  },
  "language_info": {
   "codemirror_mode": {
    "name": "ipython",
    "version": 3
   },
   "file_extension": ".py",
   "mimetype": "text/x-python",
   "name": "python",
   "nbconvert_exporter": "python",
   "pygments_lexer": "ipython3",
   "version": "3.12.9"
  }
 },
 "nbformat": 4,
 "nbformat_minor": 2
}
